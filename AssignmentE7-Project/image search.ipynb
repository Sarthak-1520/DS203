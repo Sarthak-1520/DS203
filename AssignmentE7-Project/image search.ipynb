{
 "cells": [
  {
   "cell_type": "code",
   "execution_count": 1,
   "metadata": {},
   "outputs": [
    {
     "name": "stdout",
     "output_type": "stream",
     "text": [
      "No images found matching the input values.\n"
     ]
    }
   ],
   "source": [
    "import cv2\n",
    "import numpy as np\n",
    "import pandas as pd\n",
    "\n",
    "# Load the CSV file containing the features\n",
    "features_csv_file = \"merged_csvCNN.csv\"\n",
    "\n",
    "# Load the CSV file into a pandas DataFrame\n",
    "df = pd.read_csv(features_csv_file)\n",
    "\n",
    "# Assume you have the input values of length, width, and complexity\n",
    "input_length =float(input(\"Tight Box Length\"))\n",
    "input_width = float(input(\"Tight Box Width\"))\n",
    "input_complexity = int(input(\"Image Complexity\"))\n",
    "\n",
    "# Search for image names based on the input values\n",
    "search_result = df[(df['Length'] == input_length) & \n",
    "                   (df['Width'] == input_width) & \n",
    "                   (df['Label'] == input_complexity)]\n",
    "\n",
    "# Check if any matching rows were found\n",
    "if not search_result.empty:\n",
    "    # Get the image names corresponding to the input values\n",
    "    image_names = search_result['File Name'].tolist()\n",
    "\n",
    "    # Loop through each image name\n",
    "    for image_name in image_names:\n",
    "        # Load the image\n",
    "        image_path = r'C:\\Users\\Pratyush Ranjan\\Desktop\\DS203\\Assignment 7\\E7-images(Unique)' + \"\\\\\" + image_name\n",
    "        image = cv2.imread(image_path)\n",
    "\n",
    "        # Convert the image to grayscale\n",
    "        gray = cv2.cvtColor(image, cv2.COLOR_BGR2GRAY)\n",
    "\n",
    "        # Apply Canny edge detection (optional)\n",
    "        edges = cv2.Canny(gray, 30, 150)\n",
    "\n",
    "        # Find contours\n",
    "        contours, _ = cv2.findContours(edges.copy(), cv2.RETR_EXTERNAL, cv2.CHAIN_APPROX_SIMPLE)\n",
    "\n",
    "        # Create a copy of the original image\n",
    "        tight_box_image = image.copy()\n",
    "\n",
    "        # Loop through all contours\n",
    "        for contour in contours:\n",
    "            # Get the tight-fitting bounding box of the contour\n",
    "            rect = cv2.minAreaRect(contour)\n",
    "            box = cv2.boxPoints(rect)\n",
    "            box = np.int0(box)\n",
    "\n",
    "            # Draw the tight-fitting bounding box on the copy of the original image\n",
    "            cv2.drawContours(tight_box_image, [box], 0, (0, 0, 255), 2)\n",
    "\n",
    "        # Show the image with the tight-fitting bounding box\n",
    "        cv2.imshow('Tight-Fitting Bounding Box - ' + image_name, tight_box_image)\n",
    "    \n",
    "    cv2.waitKey(0)\n",
    "    cv2.destroyAllWindows()\n",
    "else:\n",
    "    print(\"No images found matching the input values.\")\n"
   ]
  }
 ],
 "metadata": {
  "kernelspec": {
   "display_name": "Python 3",
   "language": "python",
   "name": "python3"
  },
  "language_info": {
   "codemirror_mode": {
    "name": "ipython",
    "version": 3
   },
   "file_extension": ".py",
   "mimetype": "text/x-python",
   "name": "python",
   "nbconvert_exporter": "python",
   "pygments_lexer": "ipython3",
   "version": "3.12.2"
  }
 },
 "nbformat": 4,
 "nbformat_minor": 2
}
